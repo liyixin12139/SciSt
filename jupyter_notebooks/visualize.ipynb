{
 "cells": [
  {
   "cell_type": "code",
   "execution_count": null,
   "metadata": {
    "vscode": {
     "languageId": "plaintext"
    }
   },
   "outputs": [],
   "source": [
    "import scanpy as sc\n",
    "import matplotlib.pyplot as plt\n",
    "import numpy as np\n",
    "import anndata as ad"
   ]
  },
  {
   "cell_type": "code",
   "execution_count": null,
   "metadata": {
    "vscode": {
     "languageId": "plaintext"
    }
   },
   "outputs": [],
   "source": [
    "preds_list=np.load('/2data/liyixin/HE2ST/04Results/02-单细胞参考预测基因表达/03-without_TCGN_as_ImgEncoder/03-CNN-SASM/FINAL_MODEL_HER2-resnet34_as_img_encoder/C4/preds.npy')\n",
    "ct_list = np.load('/2data/liyixin/HE2ST/04Results/02-单细胞参考预测基因表达/03-without_TCGN_as_ImgEncoder/03-CNN-SASM/FINAL_MODEL_HER2-resnet34_as_img_encoder/C4/center.npy')\n",
    "gt_list = np.load('/2data/liyixin/HE2ST/04Results/02-单细胞参考预测基因表达/03-without_TCGN_as_ImgEncoder/03-CNN-SASM/FINAL_MODEL_HER2-resnet34_as_img_encoder/C4/gts.npy')\n",
    "adata = ad.AnnData(preds_list)\n",
    "adata.obsm['spatial'] = ct_list\n",
    "adata_gt = ad.AnnData(gt_list)\n",
    "adata_gt.obsm['spatial'] = ct_list"
   ]
  },
  {
   "cell_type": "code",
   "execution_count": null,
   "metadata": {
    "vscode": {
     "languageId": "plaintext"
    }
   },
   "outputs": [],
   "source": [
    "predicted_gene_path = '/2data/liyixin/HE2ST/04Results/02-单细胞参考预测基因表达/01-data/03-CSCC/skin_hvg_cut_169.npy'\n",
    "gene_list = list(np.load(predicted_gene_path,allow_pickle=True))\n",
    "adata.var_names = gene_list\n",
    "adata_gt.var_names = gene_list\n",
    "img_path = '/2data/liyixin/HE2ST/02dataset/公共数据集/9-鳞状细胞癌-GSE144239_RAW-但分辨率较低-可能做测试用/SCC_data/img_dir/P2_ST_rep2.jpg'\n",
    "import cv2\n",
    "img = cv2.imread(img_path)"
   ]
  },
  {
   "cell_type": "code",
   "execution_count": null,
   "metadata": {
    "vscode": {
     "languageId": "plaintext"
    }
   },
   "outputs": [],
   "source": [
    "fig,ax=plt.subplots(figsize=(10,6))\n",
    "sc.pl.spatial(adata_gt,color='RPL13',img=img,vmax=2,spot_size=150,show=False,ax=ax,cmap='viridis',alpha_img=0.8)"
   ]
  },
  {
   "cell_type": "code",
   "execution_count": null,
   "metadata": {
    "vscode": {
     "languageId": "plaintext"
    }
   },
   "outputs": [],
   "source": [
    "from matplotlib.colors import LinearSegmentedColormap\n",
    "colors = [(0, '#00008B'),  # 红色\n",
    "          (0.33,'#FFFFFF'),\n",
    "          (0.5, '#FFFFFF'),  # 绿色\n",
    "          (0.66,'#FFFFFF'),\n",
    "          (1, '#8B0000')]  # 蓝色\n",
    "cmap = LinearSegmentedColormap.from_list('custom_cmap', colors)\n",
    "adata_diff=ad.AnnData(preds_list-gt_list)\n",
    "adata_diff.obsm['spatial'] = ct_list\n",
    "adata_diff.var_names = gene_list\n",
    "fig,ax=plt.subplots(figsize=(10,6))\n",
    "sc.pl.spatial(adata_diff,color='RPL13',vmin=-1,vmax=1,spot_size=150,show=False,ax=ax,color_map=cmap)#seismic"
   ]
  },
  {
   "cell_type": "code",
   "execution_count": null,
   "metadata": {
    "vscode": {
     "languageId": "plaintext"
    }
   },
   "outputs": [],
   "source": []
  },
  {
   "cell_type": "code",
   "execution_count": null,
   "metadata": {
    "vscode": {
     "languageId": "plaintext"
    }
   },
   "outputs": [],
   "source": [
    "preds_list=np.load('/2data/liyixin/HE2ST/04Results/02-单细胞参考预测基因表达/03-without_TCGN_as_ImgEncoder/03-CNN-SASM/FINAL_MODEL_HER2-resnet34_as_img_encoder/A2/preds.npy')\n",
    "ct_list = np.load('/2data/liyixin/HE2ST/04Results/02-单细胞参考预测基因表达/03-without_TCGN_as_ImgEncoder/03-CNN-SASM/FINAL_MODEL_HER2-resnet34_as_img_encoder/A2/center.npy')\n",
    "gt_list = np.load('/2data/liyixin/HE2ST/04Results/02-单细胞参考预测基因表达/03-without_TCGN_as_ImgEncoder/03-CNN-SASM/FINAL_MODEL_HER2-resnet34_as_img_encoder/A2/gts.npy')\n",
    "adata = ad.AnnData(preds_list)\n",
    "adata.obsm['spatial'] = ct_list\n",
    "adata_gt = ad.AnnData(gt_list)\n",
    "adata_gt.obsm['spatial'] = ct_list\n",
    "predicted_gene_path = '/2data/liyixin/HE2ST/04Results/02-单细胞参考预测基因表达/01-data/01-her2数据集/her_hvg_cut_1000.npy'\n",
    "gene_list = list(np.load(predicted_gene_path,allow_pickle=True))\n",
    "adata.var_names = gene_list\n",
    "adata_gt.var_names = gene_list"
   ]
  },
  {
   "cell_type": "code",
   "execution_count": null,
   "metadata": {
    "vscode": {
     "languageId": "plaintext"
    }
   },
   "outputs": [],
   "source": [
    "img_path = '/2data/liyixin/HE2ST/02dataset/公共数据集/01-HER2+/her2st-master/HER2-images/HE/A2.jpg'\n",
    "import cv2\n",
    "img = cv2.imread(img_path)\n",
    "img = cv2.cvtColor(img, cv2.COLOR_BGR2RGB)"
   ]
  },
  {
   "cell_type": "code",
   "execution_count": null,
   "metadata": {
    "vscode": {
     "languageId": "plaintext"
    }
   },
   "outputs": [],
   "source": [
    "from matplotlib.colors import LinearSegmentedColormap\n",
    "colors = [(0, '#FFFFFF'),  \n",
    "          (0.3, '#FFFFFF'),  \n",
    "          (1, '#FF0000')] \n",
    "cmap = LinearSegmentedColormap.from_list('custom_cmap', colors)"
   ]
  },
  {
   "cell_type": "code",
   "execution_count": null,
   "metadata": {
    "vscode": {
     "languageId": "plaintext"
    }
   },
   "outputs": [],
   "source": [
    "plt.rcParams[\"figure.figsize\"] = (8, 8)\n",
    "# genes=['C1QB','IGKC','PTGDS','C3','IGHA1','IGHG3','C1R','HLA-DRA','CD74','HLA-B','IGLC3']  #leukocyte mediated immunity通路\n",
    "genes=['TIMP1','MMP9','HSPB1','RHOB','SEMA4B','PLK2','FN1','ITGB4','ARF6']  #ameboidal-type cell migration通路\n",
    "gene_exp=np.mean(adata_gt.to_df()[genes].values,axis=1)\n",
    "adata_gt.obs['leukocyte mediated immunity']=gene_exp.reshape(adata_gt.shape[0],)\n",
    "sc.pl.spatial(adata_gt,img=img,color=['leukocyte mediated immunity'],cmap='coolwarm',spot_size=120,alpha_img=0.7)"
   ]
  },
  {
   "cell_type": "code",
   "execution_count": null,
   "metadata": {
    "vscode": {
     "languageId": "plaintext"
    }
   },
   "outputs": [],
   "source": [
    "plt.rcParams[\"figure.figsize\"] = (8, 8)\n",
    "# genes=['C1QB','IGKC','PTGDS','C3','IGHA1','IGHG3','C1R','HLA-DRA','CD74','HLA-B','IGLC3']\n",
    "genes=['TIMP1','MMP9','HSPB1','RHOB','SEMA4B','PLK2','FN1','ITGB4','ARF6']  #ameboidal-type cell migration\n",
    "gene_exp=np.mean(adata.to_df()[genes].values,axis=1)\n",
    "adata.obs['leukocyte mediated immunity']=gene_exp.reshape(adata.shape[0],)\n",
    "sc.pl.spatial(adata,img=img,color=['leukocyte mediated immunity'],cmap='coolwarm',spot_size=120,alpha_img=0.7)"
   ]
  }
 ],
 "metadata": {
  "language_info": {
   "name": "python"
  }
 },
 "nbformat": 4,
 "nbformat_minor": 2
}
